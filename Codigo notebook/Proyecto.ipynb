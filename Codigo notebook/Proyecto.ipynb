{
 "cells": [
  {
   "cell_type": "code",
   "execution_count": 1,
   "metadata": {
    "collapsed": false
   },
   "outputs": [],
   "source": [
    "!chmod 777 empaquetar.sh run utils/*"
   ]
  },
  {
   "cell_type": "code",
   "execution_count": 2,
   "metadata": {
    "collapsed": true
   },
   "outputs": [],
   "source": [
    "from automatalib.fa.dfa import DFA"
   ]
  },
  {
   "cell_type": "markdown",
   "metadata": {},
   "source": [
    "## DIAGRAMA"
   ]
  },
  {
   "cell_type": "markdown",
   "metadata": {},
   "source": [
    "<img src=\"files/base.png\" />"
   ]
  },
  {
   "cell_type": "code",
   "execution_count": null,
   "metadata": {
    "collapsed": false
   },
   "outputs": [],
   "source": [
    "respuestas = {\n",
    "    'vvvv':'2/4 preguntas correctas. Esfuerzate un poco mas',\n",
    "    'vvvf':'1/4 preguntas correctas. vuelve a intentarlo otra vez',   \n",
    "    'vvfv':'3/4 preguntas correctas. Casi aciertas todas, Animo',\n",
    "    'vvff':'2/4 preguntas correctas. Esfuerzate un poco mas',\n",
    "    'vfvf':'2/4 preguntas correctas. Esfuerzate un poco mas',\n",
    "    'vfvv':'3/4 preguntas correctas. Casi aciertas todas, Animo',\n",
    "    'vffv':'4/4 preguntas correctas. Has respondido todas las preguntas correctamente!',\n",
    "    'vfff':'3/4 preguntas correctas. Casi aciertas todas, Animo',\n",
    "    'ffff':'2/4 preguntas correctas. Esfuerzate un poco mas',\n",
    "    'fffv':'3/4 preguntas correctas. Casi aciertas todas, Animo',\n",
    "    'ffvv':'2/4 preguntas correctas. Esfuerzate un poco mas',\n",
    "    'ffvf':'1/4 preguntas correctas. vuelve a intentarlo otra vez',   \n",
    "    'fvff':'1/4 preguntas correctas. vuelve a intentarlo otra vez',   \n",
    "    'fvfv':'2/4 preguntas correctas. Esfuerzate un poco mas',\n",
    "    'fvvf':'0/4 preguntas correctas. No has acertado a ninguna pregunta',\n",
    "    'fvvv':'1/4 preguntas correctas. vuelve a intentarlo otra vez',\n",
    "    }\n",
    "    "
   ]
  },
  {
   "cell_type": "code",
   "execution_count": null,
   "metadata": {
    "collapsed": false
   },
   "outputs": [],
   "source": [
    " d = DFA (\n",
    "states = {'q0', 'q1', 'q2', 'q3', 'q4', 'q5', 'q6', 'q7', 'q8', 'q9', 'q10', 'q11', 'q12', 'q13', 'q14', 'q15', 'q16', 'q17', 'q18', 'q19', 'q20', 'q21', 'q22', 'q23', 'q24', 'q25', 'q26', 'q27', 'q28', 'q29', 'q30'},\n",
    "        input_symbols= {'v','f'},\n",
    "        transitions= \n",
    "        {\n",
    "            'q0':{'v':'q1','f':'q2'},\n",
    "            'q1':{'v':'q3','f':'q4'},\n",
    "            'q2':{'v':'q17','f':'q18'},\n",
    "            'q3':{'v':'q5','f':'q6'},\n",
    "            'q4':{'v':'q11','f':'q12'},\n",
    "            'q5':{'v':'q7','f':'q8'},\n",
    "            'q6':{'v':'q9','f':'q10'},\n",
    "            'q7':{},\n",
    "            'q8':{},\n",
    "            'q9':{},\n",
    "            'q10':{},\n",
    "            'q11':{'v':'q13','f':'q14'},\n",
    "            'q12':{'v':'q15','f':'q16'},\n",
    "            'q13':{},\n",
    "            'q14':{},\n",
    "            'q15':{},\n",
    "            'q16':{},\n",
    "            'q17':{'v':'q19','f':'q20'},\n",
    "            'q18':{'v':'q25','f':'q26'},\n",
    "            'q19':{'v':'q21','f':'q22'},\n",
    "            'q20':{'v':'q23','f':'q24'},\n",
    "            'q21':{},\n",
    "            'q22':{},\n",
    "            'q23':{},\n",
    "            'q24':{},\n",
    "            'q25':{'v':'q27','f':'q28'},\n",
    "            'q26':{'v':'q29','f':'q30'},\n",
    "            'q27':{},\n",
    "            'q28':{},\n",
    "            'q29':{},\n",
    "            'q30':{},\n",
    "        \n",
    "        \n",
    "        },        \n",
    "        initial_state='q0',\n",
    "        final_states={'q7','q8','q9','q10','q13','q14','q15','q16','q21','q22','q23','q24','q27','q28','q29','q30'}\n",
    "    )"
   ]
  },
  {
   "cell_type": "code",
   "execution_count": null,
   "metadata": {
    "collapsed": false
   },
   "outputs": [],
   "source": [
    "print(\"v -> Verdadero, f -> Falso\")\n",
    "print(\"\")\n",
    "print(\"Una transición vacía permite cambiar de estado sin consumir elementos del alfabeto \")\n",
    "answer1 = str(input())\n",
    "print(\"\")\n",
    "print(\"Un lenguaje se conforma por un conjunto finito de símbolos \")\n",
    "answer2 = str(input())\n",
    "print(\"\")\n",
    "print(\"Un autómata finito no determinista es aquel que solo puede estar en un único estado después de leer cualquier secuencia de entradas \")\n",
    "answer3 = str(input())\n",
    "print(\"\")\n",
    "print(\"Un autómata finito no determinista permite que en un estado puedan salir mas de una misma transición a diferentes estados \")\n",
    "answer4 = str(input())\n",
    "print(\"\")\n",
    "\n",
    "h = answer1 + answer2 + answer3 + answer4\n",
    "\n",
    "try:\n",
    "    d.validate_input(h)\n",
    "    for key in respuestas.keys():\n",
    "        if key == h:\n",
    "            print(respuestas[key])\n",
    "            break\n",
    "except:\n",
    "    print(\"error, sus respuestas no son validas\")"
   ]
  },
  {
   "cell_type": "code",
   "execution_count": null,
   "metadata": {
    "collapsed": false
   },
   "outputs": [],
   "source": [
    "codigo=123"
   ]
  },
  {
   "cell_type": "code",
   "execution_count": null,
   "metadata": {
    "collapsed": false
   },
   "outputs": [],
   "source": [
    "!./empaquetar.sh $codigo"
   ]
  },
  {
   "cell_type": "code",
   "execution_count": null,
   "metadata": {
    "collapsed": true
   },
   "outputs": [],
   "source": []
  }
 ],
 "metadata": {
  "kernelspec": {
   "display_name": "Python 3",
   "language": "python",
   "name": "python3"
  },
  "language_info": {
   "codemirror_mode": {
    "name": "ipython",
    "version": 3
   },
   "file_extension": ".py",
   "mimetype": "text/x-python",
   "name": "python",
   "nbconvert_exporter": "python",
   "pygments_lexer": "ipython3",
   "version": "3.6.2"
  }
 },
 "nbformat": 4,
 "nbformat_minor": 0
}
